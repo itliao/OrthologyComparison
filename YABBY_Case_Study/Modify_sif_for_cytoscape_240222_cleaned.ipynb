{
 "cells": [
  {
   "cell_type": "code",
   "execution_count": 1,
   "metadata": {},
   "outputs": [],
   "source": [
    "import pandas as pd\n",
    "import os"
   ]
  },
  {
   "cell_type": "code",
   "execution_count": 9,
   "metadata": {},
   "outputs": [],
   "source": [
    "#working directory\n",
    "os.chdir(r\"/path_to_files\")\n",
    "main_path = r\"/path_to_files\""
   ]
  },
  {
   "cell_type": "code",
   "execution_count": 10,
   "metadata": {},
   "outputs": [],
   "source": [
    "#path to input files\n",
    "yab = main_path +\"/OrthNet_YAB.txt\"\n",
    "OrthNet_sif_dip = main_path + \"/230927_diploid/230927_diploid.clstrd.afterMCL.edges.sif\"\n",
    "OrthNet_sif_full = main_path + \"/230214_full/230214_full.2_1.5/230214_full.clstrd.afterMCL.edges.sif\"\n"
   ]
  },
  {
   "cell_type": "code",
   "execution_count": 11,
   "metadata": {},
   "outputs": [],
   "source": [
    "#function to put the list of candidate genes in a list - much easier to loop through/check\n",
    "def candidateList(candidates):\n",
    "    geneList = []\n",
    "    candidatesFile = open(candidates, \"r\")\n",
    "    for genes in candidatesFile:\n",
    "        if \".\" in genes:\n",
    "            gene = genes.strip().split(\".\")[0]\n",
    "            geneList.append(gene)\n",
    "        else:\n",
    "            gene = genes.strip()\n",
    "            geneList.append(gene)\n",
    "    return(geneList)"
   ]
  },
  {
   "cell_type": "markdown",
   "metadata": {},
   "source": [
    "### diploid set"
   ]
  },
  {
   "cell_type": "code",
   "execution_count": 12,
   "metadata": {},
   "outputs": [],
   "source": [
    "# parse through sif file, get the cluster numbers \n",
    "clusterSet = set()\n",
    "geneList = candidateList(yab)\n",
    "sifFile = open(OrthNet_sif_dip, \"r\")\n",
    "for line in sifFile:\n",
    "    items = line.strip().split(\"\\t\")\n",
    "    cand1 = items[0].split(\"|\")[1].split(\".\")[0]\n",
    "    cand2 = items[2].split(\"|\")[1].split(\".\")[0]\n",
    "    cluster = items[3]\n",
    "    #print(cand)\n",
    "    if cand1 in geneList or cand2 in geneList:\n",
    "        clusterSet.add(cluster)\n",
    "\n",
    "# writing separate sif files parsed by clusters\n",
    "OrthNetFile = open(OrthNet_sif_dip, \"r\")\n",
    "for line in OrthNetFile:\n",
    "    items = line.strip().split(\"\\t\")\n",
    "    cand = items[0].split(\"|\")[1].split(\".\")[0]\n",
    "    code = items[1]\n",
    "    cluster = items[3]\n",
    "    if cluster in clusterSet:\n",
    "        if code != \"-\":\n",
    "            outputPath = main_path+\"/230927_diploid/cytoscape/\"+cluster+\"_cluster.sif\"\n",
    "            outputFile = open(outputPath, \"a+\")\n",
    "            outputFile.write(line)\n",
    "            outputFile.close()  "
   ]
  },
  {
   "cell_type": "markdown",
   "metadata": {},
   "source": [
    "### full - diploid+higher ploidy set"
   ]
  },
  {
   "cell_type": "code",
   "execution_count": 13,
   "metadata": {},
   "outputs": [],
   "source": [
    "# parse through sif file, get the cluster numbers \n",
    "clusterSet = set()\n",
    "geneList = candidateList(yab)\n",
    "sifFile = open(OrthNet_sif_full, \"r\")\n",
    "for line in sifFile:\n",
    "    items = line.strip().split(\"\\t\")\n",
    "    cand1 = items[0].split(\"|\")[1].split(\".\")[0]\n",
    "    cand2 = items[2].split(\"|\")[1].split(\".\")[0]\n",
    "    cluster = items[3]\n",
    "    #print(cand)\n",
    "    if cand1 in geneList or cand2 in geneList:\n",
    "        clusterSet.add(cluster)\n",
    "\n",
    "# writing separate sif files parsed by clusters\n",
    "OrthNetFile = open(OrthNet_sif_full, \"r\")\n",
    "for line in OrthNetFile:\n",
    "    items = line.strip().split(\"\\t\")\n",
    "    cand = items[0].split(\"|\")[1].split(\".\")[0]\n",
    "    code = items[1]\n",
    "    cluster = items[3]\n",
    "    if cluster in clusterSet:\n",
    "        if code != \"-\":\n",
    "            outputPath = main_path+\"/230214_full/230214_full.2_1.5/cytoscape/\"+cluster+\"_cluster.sif\"\n",
    "            outputFile = open(outputPath, \"a+\")\n",
    "            outputFile.write(line)\n",
    "            outputFile.close()  "
   ]
  }
 ],
 "metadata": {
  "kernelspec": {
   "display_name": "Python 3 (ipykernel)",
   "language": "python",
   "name": "python3"
  },
  "language_info": {
   "codemirror_mode": {
    "name": "ipython",
    "version": 3
   },
   "file_extension": ".py",
   "mimetype": "text/x-python",
   "name": "python",
   "nbconvert_exporter": "python",
   "pygments_lexer": "ipython3",
   "version": "3.10.9"
  }
 },
 "nbformat": 4,
 "nbformat_minor": 4
}
