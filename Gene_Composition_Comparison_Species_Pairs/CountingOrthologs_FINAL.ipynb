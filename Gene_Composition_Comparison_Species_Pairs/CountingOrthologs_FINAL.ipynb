{
 "cells": [
  {
   "cell_type": "code",
   "execution_count": null,
   "metadata": {},
   "outputs": [],
   "source": [
    "# 231113\n",
    "# script for github"
   ]
  },
  {
   "cell_type": "code",
   "execution_count": 1,
   "metadata": {},
   "outputs": [],
   "source": [
    "import pandas as pd\n",
    "import itertools"
   ]
  },
  {
   "cell_type": "code",
   "execution_count": 2,
   "metadata": {},
   "outputs": [],
   "source": [
    "# for the comparisons from the original Orthofinder outputs\n",
    "main_path = r\"/Users/irene/Dropbox (Personal)/UCLA/Lab\""
   ]
  },
  {
   "cell_type": "code",
   "execution_count": 3,
   "metadata": {},
   "outputs": [],
   "source": [
    "# function to count number of genes per species in orthogroups\n",
    "def countGenes(OGfile, program, startNum):\n",
    "    \n",
    "    orthogroup = pd.read_table(OGfile)\n",
    "    print(\"orthogroup shape:\", orthogroup.shape)\n",
    "    OGcount = orthogroup.fillna(\"*\")\n",
    "    \n",
    "    if program == \"orthofinder\":\n",
    "        for row, value in OGcount.iterrows():\n",
    "            index = OGcount.shape[1]\n",
    "            \n",
    "            # if start with Phylogenetically Hieirachical Orthogroups, start with i=3\n",
    "            # if start with Orthogroups (no downstream analyses), start with i=1\n",
    "            i=startNum\n",
    "            while i < index:\n",
    "                items = value[i]\n",
    "                #print(orthogroup.iloc[row][i])\n",
    "                if type(items) != int:\n",
    "                    geneList = items.split(\", \")\n",
    "                    #print(geneList)\n",
    "                    if geneList[0] == \"*\":\n",
    "                        OGcount.iat[row,i] = 0\n",
    "                        i += 1\n",
    "                    else:\n",
    "                        numOfGenes = len(geneList)\n",
    "                        OGcount.iat[row,i] = numOfGenes\n",
    "                        i += 1\n",
    "                else:\n",
    "                    i += 1\n",
    "                    \n",
    "    elif program == \"sonicparanoid\":\n",
    "        \n",
    "        OGcount.columns = [col_name.split(\".\")[0] for col_name in OGcount.columns]\n",
    "        \n",
    "        for row, value in OGcount.iterrows():\n",
    "            index = OGcount.shape[1]\n",
    "            \n",
    "            i=1\n",
    "            while i < index:\n",
    "                items = value[i]\n",
    "                #print(orthogroup.iloc[row][i])\n",
    "                if type(items) != int:\n",
    "                    geneList = items.split(\",\")\n",
    "                    #print(geneList)\n",
    "                    if geneList[0] == \"*\":\n",
    "                        OGcount.iat[row,i] = 0\n",
    "                        i += 1\n",
    "                    else:\n",
    "                        numOfGenes = len(geneList)\n",
    "                        OGcount.iat[row,i] = numOfGenes\n",
    "                        i += 1\n",
    "                else:\n",
    "                    i += 1\n",
    "                    \n",
    "    elif program == \"broccoli\":\n",
    "        OGcount.columns = [col_name.split(\".\")[0] for col_name in OGcount.columns]\n",
    "        \n",
    "        for row, value in OGcount.iterrows():\n",
    "            index = OGcount.shape[1]\n",
    "\n",
    "            i=1\n",
    "            while i < index:\n",
    "                items = value[i]\n",
    "                #print(orthogroup.iloc[row][i])\n",
    "                if type(items) != int:\n",
    "                    geneList = items.split(\" \")\n",
    "                    #print(geneList)\n",
    "                    if geneList[0] == \"*\":\n",
    "                        OGcount.iat[row,i] = 0\n",
    "                        i += 1\n",
    "                    else:\n",
    "                        numOfGenes = len(geneList)\n",
    "                        OGcount.iat[row,i] = numOfGenes\n",
    "                        i += 1\n",
    "                else:\n",
    "                    i += 1\n",
    "                    \n",
    "    return(OGcount)\n",
    "    #OGcount.to_csv(outputPath, sep = \"\\t\", index=False)"
   ]
  },
  {
   "cell_type": "code",
   "execution_count": 4,
   "metadata": {},
   "outputs": [],
   "source": [
    "# function to count number of ortholog categories\n",
    "# 1:1 orthologs\n",
    "# 1:M orthologs\n",
    "# M:1 orthologs\n",
    "# M:M orthologs\n",
    "\n",
    "def orthologCategory(OGdf, species1, species2):\n",
    "    \n",
    "    print(\"orthogroup shape:\", OGdf.shape)\n",
    "    OGdf_pair = OGdf[[species1, species2]]\n",
    "    \n",
    "    one2one = 0\n",
    "    one2many = 0\n",
    "    many2one = 0\n",
    "    many2many = 0\n",
    "    \n",
    "    for row, value in OGdf_pair.iterrows():\n",
    "        #print(value)\n",
    "        #print(value[0])\n",
    "        #print(value[1])\n",
    "        sp1Num = value[0]\n",
    "        sp2Num = value[1]\n",
    "        \n",
    "        if sp1Num == 1 and sp2Num == 1:\n",
    "            one2one += 1\n",
    "        elif sp1Num == 1 and sp2Num > 1:\n",
    "            one2many += 1\n",
    "        elif sp1Num > 1 and sp2Num == 1:\n",
    "            many2one += 1\n",
    "        elif sp1Num > 1 and sp2Num > 1:\n",
    "            many2many += 1\n",
    "    \n",
    "    orthologCountList = [species1+species2, one2one, one2many, many2one, many2many]\n",
    "    return(orthologCountList)"
   ]
  },
  {
   "cell_type": "markdown",
   "metadata": {},
   "source": [
    "# Table for baseline counts\n",
    "## from OrthoFinder-BLAST-MCL for each species pair"
   ]
  },
  {
   "cell_type": "code",
   "execution_count": null,
   "metadata": {},
   "outputs": [],
   "source": [
    "# Loop to generate table for baseline counts\n",
    "# relies on the pair files to have similar path structure\n",
    "\n",
    "speciesList = ['Ath', 'Chi', 'Cru', 'Tar', 'Sal', 'Bra', 'Csa', 'Aar']\n",
    "speciesPairMasterList = []\n",
    "pairs = itertools.combinations(speciesList, 2)\n",
    "for item in pairs:\n",
    "    species1 = item[0]\n",
    "    species2 = item[1]\n",
    "    pairFile = main_path + \"/path_to_all_files/\"+species1 + species2+\"/Orthogroups/Orthogroups.tsv\"\n",
    "    countDF = countGenes(pairFile, \"orthofinder\", 1)\n",
    "    speciesPair = species1+species2+\"List\"\n",
    "    speciesPair = orthologCategory(countDF, species1, species2)\n",
    "    speciesPairMasterList.append(speciesPair)"
   ]
  },
  {
   "cell_type": "code",
   "execution_count": null,
   "metadata": {},
   "outputs": [],
   "source": [
    "speciesPairMasterList"
   ]
  },
  {
   "cell_type": "code",
   "execution_count": 7,
   "metadata": {},
   "outputs": [],
   "source": [
    "orthoCatDF = pd.DataFrame(speciesPairMasterList, columns = [\"SpPair\", \"one:one\", \"1:M\", \"M:1\", \"M:M\"])"
   ]
  },
  {
   "cell_type": "code",
   "execution_count": 8,
   "metadata": {},
   "outputs": [],
   "source": [
    "output_path = main_path+\"/path_to_output/baselineOF_blast_230221.csv\"\n",
    "orthoCatDF.to_csv(output_path, index=False)"
   ]
  },
  {
   "cell_type": "markdown",
   "metadata": {},
   "source": [
    "# For each orthology inferernce algorithms\n",
    "## diploid set and higher ploidy set "
   ]
  },
  {
   "cell_type": "code",
   "execution_count": 5,
   "metadata": {},
   "outputs": [],
   "source": [
    "# function for orthogroups more than 2 species: test on brass_d \n",
    "\n",
    "def orthoCatMasterList(OGfile, program, indNum, speciesList, output_path):\n",
    "    countDF = countGenes(OGfile, program, indNum)\n",
    "    \n",
    "    speciesPairMasterList = []\n",
    "    \n",
    "    pairs = itertools.combinations(speciesList, 2)\n",
    "    for item in pairs:\n",
    "        species1 = item[0]\n",
    "        species2 = item[1]\n",
    "        speciesPair = species1+species2+\"List\"\n",
    "        speciesPair = orthologCategory(countDF, species1, species2)\n",
    "        speciesPairMasterList.append(speciesPair)\n",
    "\n",
    "    orthoCatDF = pd.DataFrame(speciesPairMasterList, columns = [\"SpPair\", \"one:one\", \"1:M\", \"M:1\", \"M:M\"])\n",
    "    orthoCatDF.to_csv(output_path, index=False)\n",
    "    "
   ]
  },
  {
   "cell_type": "markdown",
   "metadata": {},
   "source": [
    "### Broccoli"
   ]
  },
  {
   "cell_type": "code",
   "execution_count": null,
   "metadata": {},
   "outputs": [],
   "source": [
    "# broccoli - diploid\n",
    "BR_path = main_path + \"/path_to_dip/dip_BR-table_OGs_protein_names.txt\"\n",
    "BR_out = main_path + \"/path_to_out/dip_BR_orthoCat_230927.csv\"\n",
    "diploidList = ['Ath', 'Chi', 'Cru', 'Tar', 'Aar']\n",
    "orthoCatMasterList(BR_path, \"broccoli\", 1, diploidList, BR_out)"
   ]
  },
  {
   "cell_type": "code",
   "execution_count": null,
   "metadata": {},
   "outputs": [],
   "source": [
    "# broccoli - higher ploidy\n",
    "BR_path = main_path + \"/path_to_full/full_BR-table_OGs_protein_names.txt\"\n",
    "BR_out = main_path + \"/path_to_out/full_BR_orthoCat_230927.csv\"\n",
    "fullList = ['Ath', 'Chi', 'Cru', 'Tar', 'Sal', 'Bra', 'Csa', 'Aar']\n",
    "orthoCatMasterList(BR_path, \"broccoli\", 1, fullList, BR_out)"
   ]
  },
  {
   "cell_type": "markdown",
   "metadata": {},
   "source": [
    "### OrthoFinder-BLAST"
   ]
  },
  {
   "cell_type": "code",
   "execution_count": null,
   "metadata": {},
   "outputs": [],
   "source": [
    "# Orthofinder-BLAST - diploid\n",
    "OF_b_path = main_path + \"/path_to_dip/dip_OF_b_N0.tsv\"\n",
    "OF_b_out = main_path + \"/path_to_out/dip_OF_blast_orthoCat_230927.csv\"\n",
    "diploidList = ['Ath', 'Chi', 'Cru', 'Tar', 'Aar']\n",
    "orthoCatMasterList(OF_b_path, \"orthofinder\", 3, diploidList, OF_b_out)"
   ]
  },
  {
   "cell_type": "code",
   "execution_count": null,
   "metadata": {},
   "outputs": [],
   "source": [
    "# Orthofinder-BLAST - higher ploidy\n",
    "OF_b_path = main_path + \"/path_to_full/full_OFb_N0.tsv\"\n",
    "OF_b_out = main_path + \"/path_to_out/dip_OF_blast_orthoCat_230927.csv\"\n",
    "fullList = ['Ath', 'Chi', 'Cru', 'Tar', 'Sal', 'Bra', 'Csa', 'Aar']\n",
    "orthoCatMasterList(OF_b_path, \"orthofinder\", 3, fullList, OF_b_out)"
   ]
  },
  {
   "cell_type": "markdown",
   "metadata": {},
   "source": [
    "### OrthoFinder-DIAMOND"
   ]
  },
  {
   "cell_type": "code",
   "execution_count": null,
   "metadata": {},
   "outputs": [],
   "source": [
    "# Orthofinder-DIAMOND - diploid\n",
    "OF_d_path = main_path + \"/path_to_dip/dip_OF_d_N0.tsv\"\n",
    "OF_d_out = main_path + \"/path_to_out/dip_OF_diamond_orthoCat_230927.csv\"\n",
    "diploidList = ['Ath', 'Chi', 'Cru', 'Tar','Aar']\n",
    "orthoCatMasterList(OF_d_path, \"orthofinder\", 3, diploidList, OF_d_out)"
   ]
  },
  {
   "cell_type": "code",
   "execution_count": null,
   "metadata": {},
   "outputs": [],
   "source": [
    "# Orthofinder-DIAMOND - higher ploidy\n",
    "OF_d_path = main_path + \"/path_to_full/full_OFd_N0.tsv\"\n",
    "OF_d_out = main_path + \"/path_to_out/full_OF_diamond_orthoCat_230213.csv\"\n",
    "fullList = ['Ath', 'Chi', 'Cru', 'Tar', 'Sal', 'Bra', 'Csa', 'Aar']\n",
    "orthoCatMasterList(OF_d_path, \"orthofinder\", 3, fullList, OF_d_out)"
   ]
  },
  {
   "cell_type": "markdown",
   "metadata": {},
   "source": [
    "### OrthoFinder-MMseqs2"
   ]
  },
  {
   "cell_type": "code",
   "execution_count": null,
   "metadata": {},
   "outputs": [],
   "source": [
    "# Orthofinder-MMseqs2 - diploid\n",
    "OF_m_path = main_path + \"/path_to_dip/dip_OF_m_N0.tsv\"\n",
    "OF_m_out = main_path + \"/path_to_full/dip_OF_mmseqs_orthoCat_230927.csv\"\n",
    "diploidList = ['Ath', 'Chi', 'Cru', 'Tar', 'Aar']\n",
    "orthoCatMasterList(OF_m_path, \"orthofinder\", 3, diploidList, OF_m_out)"
   ]
  },
  {
   "cell_type": "code",
   "execution_count": null,
   "metadata": {},
   "outputs": [],
   "source": [
    "# Orthofinder-MMseqs2 - higher ploidy\n",
    "OF_m_path = main_path + \"/path_to_dip/full_OFm_N0.tsv\"\n",
    "OF_m_out = main_path + \"/path_to_full/full_OF_mmseqs_orthoCat_230213.csv\"\n",
    "fullList = ['Ath', 'Chi', 'Cru', 'Tar', 'Sal', 'Bra', 'Csa', 'Aar']\n",
    "orthoCatMasterList(OF_m_path, \"orthofinder\", 3, fullList, OF_m_out)"
   ]
  },
  {
   "cell_type": "markdown",
   "metadata": {},
   "source": [
    "### SonicParanoid-DIAMOND"
   ]
  },
  {
   "cell_type": "code",
   "execution_count": null,
   "metadata": {},
   "outputs": [],
   "source": [
    "# SonicParanoid-DIAMOND - diploid\n",
    "SP_d_path = main_path + \"/path_to_dip/dip_SP_d-flat.ortholog_groups.tsv\"\n",
    "SP_d_out = main_path + \"/path_to_out/dip_SP_diamond_orthoCat_230927.csv\"\n",
    "diploidList = ['Ath', 'Chi', 'Cru', 'Tar', 'Aar']\n",
    "orthoCatMasterList(SP_d_path, \"sonicparanoid\", 1, diploidList, SP_d_out)"
   ]
  },
  {
   "cell_type": "code",
   "execution_count": null,
   "metadata": {},
   "outputs": [],
   "source": [
    "# SonicParanoid-DIAMOND - higher ploidy\n",
    "SP_d_path = main_path + \"/path_to_full/full_SPd_flat.ortholog_groups.tsv\"\n",
    "SP_d_out = main_path + \"/path_to_out/full_SP_diamond_orthoCat_230119.csv\"\n",
    "fullList = ['Ath', 'Chi', 'Cru', 'Tar', 'Sal', 'Bra', 'Csa', 'Aar']\n",
    "orthoCatMasterList(SP_d_path, \"sonicparanoid\", 1, fullList, SP_d_out)"
   ]
  },
  {
   "cell_type": "markdown",
   "metadata": {},
   "source": [
    "### SonicParanoid-MMseqs2"
   ]
  },
  {
   "cell_type": "code",
   "execution_count": null,
   "metadata": {},
   "outputs": [],
   "source": [
    "# SonicParanoid-MMseqs2 - diploid\n",
    "SP_m_path = main_path + \"/path_to_dip/dip_SP_m-flat.ortholog_groups.tsv\"\n",
    "SP_m_out = main_path + \"/path_to_out/dip_SP_mmseqs_orthoCat_230927.csv\"\n",
    "diploidList = ['Ath', 'Chi', 'Cru', 'Tar', 'Aar']\n",
    "orthoCatMasterList(SP_m_path, \"sonicparanoid\", 1, diploidList, SP_m_out)"
   ]
  },
  {
   "cell_type": "code",
   "execution_count": null,
   "metadata": {},
   "outputs": [],
   "source": [
    "# SonicParanoid-MMseqs2 - higher ploidy\n",
    "SP_m_path = main_path + \"/path_to_full/full_SPm-flat.ortholog_groups.tsv\"\n",
    "SP_m_out = main_path + \"/path_to_out/full_SP_mmseqs_orthoCat_230119.csv\"\n",
    "fullList = ['Ath', 'Chi', 'Cru', 'Tar', 'Sal', 'Bra', 'Csa', 'Aar']\n",
    "orthoCatMasterList(SP_m_path, \"sonicparanoid\", 1, fullList, SP_m_out)"
   ]
  },
  {
   "cell_type": "markdown",
   "metadata": {},
   "source": [
    "### OrthNet"
   ]
  },
  {
   "cell_type": "code",
   "execution_count": null,
   "metadata": {},
   "outputs": [],
   "source": [
    "# OrthNet - diploid\n",
    "ON_path = main_path + \"/path_to_dip/OrthNet_groups_diploid_230927.txt\"\n",
    "ON_out = main_path + \"/path_to_out/dip_ON_orthoCat_230927.csv\"\n",
    "diploidList = ['Ath', 'Chi', 'Cru', 'Tar', 'Aar']\n",
    "orthoCatMasterList(ON_path, \"orthofinder\", 1, diploidList, ON_out)"
   ]
  },
  {
   "cell_type": "code",
   "execution_count": null,
   "metadata": {},
   "outputs": [],
   "source": [
    "# OrthNet - higher ploidy\n",
    "ON_path = main_path + \"/path_to_full/OrthNet_groups_full_230915.txt\"\n",
    "ON_out = main_path + \"/path_to_out/full_ON_orthoCat_230915.csv\"\n",
    "fullList = ['Ath', 'Chi', 'Cru', 'Tar', 'Sal', 'Bra', 'Csa', 'Aar']\n",
    "orthoCatMasterList(ON_path, \"orthofinder\", 1, fullList, ON_out)"
   ]
  }
 ],
 "metadata": {
  "kernelspec": {
   "display_name": "Python 3 (ipykernel)",
   "language": "python",
   "name": "python3"
  },
  "language_info": {
   "codemirror_mode": {
    "name": "ipython",
    "version": 3
   },
   "file_extension": ".py",
   "mimetype": "text/x-python",
   "name": "python",
   "nbconvert_exporter": "python",
   "pygments_lexer": "ipython3",
   "version": "3.10.9"
  }
 },
 "nbformat": 4,
 "nbformat_minor": 4
}
