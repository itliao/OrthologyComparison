{
 "cells": [
  {
   "cell_type": "code",
   "execution_count": null,
   "metadata": {},
   "outputs": [],
   "source": [
    "# 231113\n",
    "# script for github"
   ]
  },
  {
   "cell_type": "code",
   "execution_count": 1,
   "metadata": {},
   "outputs": [],
   "source": [
    "import pandas as pd"
   ]
  },
  {
   "cell_type": "code",
   "execution_count": 2,
   "metadata": {},
   "outputs": [],
   "source": [
    "# for the comparisons from the original Orthofinder outputs\n",
    "main_path = r\"/path_to_files\""
   ]
  },
  {
   "cell_type": "markdown",
   "metadata": {},
   "source": [
    "### function to count number of genes per species in orthogroups"
   ]
  },
  {
   "cell_type": "code",
   "execution_count": 3,
   "metadata": {},
   "outputs": [],
   "source": [
    "def countGenes(OGfile, program, startNum):\n",
    "    \n",
    "    orthogroup = pd.read_table(OGfile)\n",
    "    print(\"orthogroup shape:\", orthogroup.shape)\n",
    "    OGcount = orthogroup.fillna(\"*\")\n",
    "    \n",
    "    if program == \"orthofinder\":\n",
    "        for row, value in OGcount.iterrows():\n",
    "            index = OGcount.shape[1]\n",
    "\n",
    "            # if start with Phylogenetically Hieirachical Orthogroups, start with i=3\n",
    "            # if start with Orthogroups (no downstream analyses), start with i=1\n",
    "            i=startNum\n",
    "            while i < index:\n",
    "                items = value[i]\n",
    "                #print(orthogroup.iloc[row][i])\n",
    "                if type(items) != int:\n",
    "                    geneList = items.split(\", \")\n",
    "                    #print(geneList)\n",
    "                    if geneList[0] == \"*\":\n",
    "                        OGcount.iat[row,i] = 0\n",
    "                        i += 1\n",
    "                    else:\n",
    "                        numOfGenes = len(geneList)\n",
    "                        OGcount.iat[row,i] = numOfGenes\n",
    "                        i += 1\n",
    "                else:\n",
    "                    i += 1\n",
    "                    \n",
    "    elif program == \"sonicparanoid\":\n",
    "        \n",
    "        OGcount.columns = [col_name.split(\".\")[0] for col_name in OGcount.columns]\n",
    "        \n",
    "        for row, value in OGcount.iterrows():\n",
    "            index = OGcount.shape[1]\n",
    "            \n",
    "            i=1\n",
    "            while i < index:\n",
    "                items = value[i]\n",
    "                #print(orthogroup.iloc[row][i])\n",
    "                if type(items) != int:\n",
    "                    geneList = items.split(\",\")\n",
    "                    #print(geneList)\n",
    "                    if geneList[0] == \"*\":\n",
    "                        OGcount.iat[row,i] = 0\n",
    "                        i += 1\n",
    "                    else:\n",
    "                        numOfGenes = len(geneList)\n",
    "                        OGcount.iat[row,i] = numOfGenes\n",
    "                        i += 1\n",
    "                else:\n",
    "                    i += 1\n",
    "                    \n",
    "    elif program == \"broccoli\":\n",
    "        OGcount.columns = [col_name.split(\".\")[0] for col_name in OGcount.columns]\n",
    "        OGcount.rename(columns={\"#OG_name\": \"OG_name\"}) #230124 change, help with visualization R script later \n",
    "        \n",
    "        for row, value in OGcount.iterrows():\n",
    "            index = OGcount.shape[1]\n",
    "\n",
    "            i=1\n",
    "            while i < index:\n",
    "                items = value[i]\n",
    "                #print(orthogroup.iloc[row][i])\n",
    "                if type(items) != int:\n",
    "                    geneList = items.split(\" \")\n",
    "                    #print(geneList)\n",
    "                    if geneList[0] == \"*\":\n",
    "                        OGcount.iat[row,i] = 0\n",
    "                        i += 1\n",
    "                    else:\n",
    "                        numOfGenes = len(geneList)\n",
    "                        OGcount.iat[row,i] = numOfGenes\n",
    "                        i += 1\n",
    "                else:\n",
    "                    i += 1\n",
    "   \n",
    "    elif program == \"orthnet\":\n",
    "        for row, value in OGcount.iterrows():\n",
    "            index = OGcount.shape[1]\n",
    "            \n",
    "            # if start with Orthogroups (no downstream analyses), start with i=1\n",
    "            i=startNum\n",
    "            while i < index:\n",
    "                items = value[i]\n",
    "                #print(orthogroup.iloc[row][i])\n",
    "                if type(items) != int:\n",
    "                    geneList = items.split(\", \")\n",
    "                    #print(geneList)\n",
    "                    if geneList[0] == \"*\":\n",
    "                        OGcount.iat[row,i] = 0\n",
    "                        i += 1\n",
    "                    else:\n",
    "                        numOfGenes = len(geneList)\n",
    "                        OGcount.iat[row,i] = numOfGenes\n",
    "                        i += 1\n",
    "                else:\n",
    "                    i += 1\n",
    "                    \n",
    "    return(OGcount)\n",
    "    #OGcount.to_csv(outputPath, sep = \"\\t\", index=False)"
   ]
  },
  {
   "cell_type": "markdown",
   "metadata": {},
   "source": [
    "### function to convert the number of genes per species into a binary code "
   ]
  },
  {
   "cell_type": "code",
   "execution_count": 4,
   "metadata": {},
   "outputs": [],
   "source": [
    "# 0 = no genes\n",
    "# 1 = at least 1 gene\n",
    "\n",
    "def binaryGenes(OGdf):\n",
    "    \n",
    "    print(\"orthogroup shape:\", OGdf.shape)\n",
    "    \n",
    "    for row, value in OGdf.iterrows():\n",
    "        index = OGdf.shape[1]\n",
    "    \n",
    "        i=1\n",
    "        while i < index:\n",
    "            numGenes = value[i]\n",
    "            #print(orthogroup.iloc[row][i])\n",
    "            if numGenes > 1:\n",
    "                OGdf.iat[row,i] = 1\n",
    "                i += 1\n",
    "            else:\n",
    "                i += 1\n",
    "            \n",
    "\n",
    "    return(OGdf)"
   ]
  },
  {
   "cell_type": "markdown",
   "metadata": {},
   "source": [
    "### function to keep the number of genes per species in each orthogroup"
   ]
  },
  {
   "cell_type": "code",
   "execution_count": 5,
   "metadata": {},
   "outputs": [],
   "source": [
    "# but limit only to numbers below 10\n",
    "# numbers 10 and > 10 will be noted as \"10\"\n",
    "def limitNumGenes(OGdf):\n",
    "    \n",
    "    print(\"orthogroup shape:\", OGdf.shape)\n",
    "    for row, value in OGdf.iterrows():\n",
    "        index = OGdf.shape[1]\n",
    "    \n",
    "        i=1\n",
    "        while i < index:\n",
    "            numGenes = value[i]\n",
    "            #print(orthogroup.iloc[row][i])\n",
    "            if numGenes > 10:\n",
    "                OGdf.iat[row,i] = 10\n",
    "                i += 1\n",
    "            else:\n",
    "                i += 1\n",
    "                \n",
    "    return(OGdf)"
   ]
  },
  {
   "cell_type": "markdown",
   "metadata": {},
   "source": [
    "### wrapper functions to run all of the conversion functions and write to files"
   ]
  },
  {
   "cell_type": "code",
   "execution_count": 6,
   "metadata": {},
   "outputs": [],
   "source": [
    "# output directory to \"diploidBrass\" for diploid set\n",
    "def OG_to_convert_d(OGfile, program, colNum, outputDir):\n",
    "    countDF = countGenes(OGfile, program, colNum)\n",
    "    if program == \"orthofinder\":\n",
    "        countDF = countDF.drop(columns=['OG', 'Gene Tree Parent Clade'])\n",
    "    dfCopy1 = countDF.copy()\n",
    "    binDF = binaryGenes(dfCopy1)\n",
    "    dfCopy2 = countDF.copy() \n",
    "    tenMaxDF = limitNumGenes(dfCopy2)\n",
    "    output_path = r\"/path_for_diploid_output/diploidBrass\"\n",
    "    countDF.to_csv(output_path + outputDir + \"/\" + program + \"_allCounts.tsv\", sep=\"\\t\", encoding='utf-8', index=False)\n",
    "    binDF.to_csv(output_path + outputDir + \"/\" + program + \"_binary.tsv\", sep=\"\\t\", encoding='utf-8', index=False)\n",
    "    tenMaxDF.to_csv(output_path + outputDir + \"/\" + program + \"_tenMax.tsv\", sep=\"\\t\", encoding='utf-8', index=False)\n",
    "\n",
    "# output directory to \"fullBrass\" for higher ploidy set\n",
    "def OG_to_convert_f(OGfile, program, colNum, outputDir):\n",
    "    countDF = countGenes(OGfile, program, colNum)\n",
    "    if program == \"orthofinder\":\n",
    "        countDF = countDF.drop(columns=['OG', 'Gene Tree Parent Clade'])\n",
    "    dfCopy1 = countDF.copy()\n",
    "    binDF = binaryGenes(dfCopy1)\n",
    "    dfCopy2 = countDF.copy() \n",
    "    tenMaxDF = limitNumGenes(dfCopy2)\n",
    "    output_path = r\"/path_for_full_output/fullBrass\"\n",
    "    countDF.to_csv(output_path + outputDir + \"/\" + program + \"_allCounts.tsv\", sep=\"\\t\", encoding='utf-8', index=False)\n",
    "    binDF.to_csv(output_path + outputDir + \"/\" + program + \"_binary.tsv\", sep=\"\\t\", encoding='utf-8', index=False)\n",
    "    tenMaxDF.to_csv(output_path + outputDir + \"/\" + program + \"_tenMax.tsv\", sep=\"\\t\", encoding='utf-8', index=False)\n"
   ]
  },
  {
   "cell_type": "markdown",
   "metadata": {},
   "source": [
    "### Broccoli"
   ]
  },
  {
   "cell_type": "code",
   "execution_count": null,
   "metadata": {},
   "outputs": [],
   "source": [
    "BR_path_d = main_path + \"/path_to_dip/dip_BR-table_OGs_protein_names.txt\"\n",
    "BR_path_f = main_path + \"/path_to_full/full_BR-table_OGs_protein_names.txt\"\n",
    "\n",
    "OG_to_convert_d(BR_path_d, \"broccoli\", 1, \"BR\")\n",
    "OG_to_convert_f(BR_path_f, \"broccoli\", 1, \"BR\")"
   ]
  },
  {
   "cell_type": "markdown",
   "metadata": {},
   "source": [
    "### Orthofinder-BLAST"
   ]
  },
  {
   "cell_type": "code",
   "execution_count": null,
   "metadata": {},
   "outputs": [],
   "source": [
    "OF_b_path_d = main_path + \"/path_to_dip/dip_OF_b_N0.tsv\"\n",
    "OF_b_path_f = main_path + \"/path_to_full/full_OFb_N0.tsv\"\n",
    "\n",
    "OG_to_convert_d(OF_d_path_d, \"orthofinder\", 3, \"OF_blast\")\n",
    "OG_to_convert_f(OF_d_path_f, \"orthofinder\", 3, \"OF_blast\")"
   ]
  },
  {
   "cell_type": "markdown",
   "metadata": {},
   "source": [
    "### Orthofinder-DIAMOND"
   ]
  },
  {
   "cell_type": "code",
   "execution_count": null,
   "metadata": {},
   "outputs": [],
   "source": [
    "OF_d_path_d = main_path + \"/path_to_dip/dip_OF_d_N0.tsv\"\n",
    "OF_d_path_f = main_path + \"/path_to_full/full_OFd_N0.tsv\"\n",
    "\n",
    "OG_to_convert_d(OF_d_path_d, \"orthofinder\", 3, \"OF_diamond\")\n",
    "OG_to_convert_f(OF_d_path_f, \"orthofinder\", 3, \"OF_diamond\")"
   ]
  },
  {
   "cell_type": "markdown",
   "metadata": {},
   "source": [
    "### Orthofinder-MMseqs2"
   ]
  },
  {
   "cell_type": "code",
   "execution_count": null,
   "metadata": {},
   "outputs": [],
   "source": [
    "OF_m_path_d = main_path + \"/path_to_dip/dip_OF_m_N0.tsv\"\n",
    "OF_m_path_f = main_path + \"/path_to_full/full_OFm_N0.tsv\"\n",
    "\n",
    "OG_to_convert_d(OF_m_path_d, \"orthofinder\", 3, \"OF_mmseqs\")\n",
    "OG_to_convert_f(OF_m_path_f, \"orthofinder\", 3, \"OF_mmseqs\")"
   ]
  },
  {
   "cell_type": "markdown",
   "metadata": {},
   "source": [
    "### SonicParanoid-DIAMOND"
   ]
  },
  {
   "cell_type": "code",
   "execution_count": null,
   "metadata": {},
   "outputs": [],
   "source": [
    "SP_d_path_d = main_path + \"/path_to_dip/dip_SP_d-flat.ortholog_groups.tsv\"\n",
    "SP_d_path_f = main_path + \"/path_to_full/full_SPd_flat.ortholog_groups.tsv\"\n",
    "\n",
    "OG_to_convert_d(SP_d_path_d, \"sonicparanoid\", 1, \"SP_diamond\")\n",
    "OG_to_convert_f(SP_d_path_f, \"sonicparanoid\", 1, \"SP_diamond\")"
   ]
  },
  {
   "cell_type": "markdown",
   "metadata": {},
   "source": [
    "### SonicParanoid-MMseqs2"
   ]
  },
  {
   "cell_type": "code",
   "execution_count": null,
   "metadata": {},
   "outputs": [],
   "source": [
    "SP_m_path_d = main_path + \"/path_to_dip/dip_SP_m-flat.ortholog_groups.tsv\"\n",
    "SP_m_path_f = main_path + \"/path_to_full/full_SPm-flat.ortholog_groups.tsv\"\n",
    "\n",
    "OG_to_convert_d(SP_m_path_d, \"sonicparanoid\", 1, \"SP_mmseqs\")\n",
    "OG_to_convert_f(SP_m_path_f, \"sonicparanoid\", 1, \"SP_mmseqs\")"
   ]
  },
  {
   "cell_type": "markdown",
   "metadata": {},
   "source": [
    "### OrthNet"
   ]
  },
  {
   "cell_type": "code",
   "execution_count": null,
   "metadata": {},
   "outputs": [],
   "source": [
    "ON_path_d = main_path + \"/path_to_dip/OrthNet_groups_diploid_230927.txt\"\n",
    "ON_path_f = main_path + \"/path_to_full/OrthNet_groups_full_230915.txt\"\n",
    "\n",
    "OG_to_convert_d(ON_path_d, \"orthnet\", 1, \"ON\")\n",
    "OG_to_convert_f(ON_path_f, \"orthnet\", 1, \"ON\")"
   ]
  }
 ],
 "metadata": {
  "kernelspec": {
   "display_name": "Python 3 (ipykernel)",
   "language": "python",
   "name": "python3"
  },
  "language_info": {
   "codemirror_mode": {
    "name": "ipython",
    "version": 3
   },
   "file_extension": ".py",
   "mimetype": "text/x-python",
   "name": "python",
   "nbconvert_exporter": "python",
   "pygments_lexer": "ipython3",
   "version": "3.10.9"
  }
 },
 "nbformat": 4,
 "nbformat_minor": 4
}
