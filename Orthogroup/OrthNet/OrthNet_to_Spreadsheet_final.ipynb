{
 "cells": [
  {
   "cell_type": "code",
   "execution_count": null,
   "metadata": {},
   "outputs": [],
   "source": [
    "# 231109\n",
    "# script to upload to github"
   ]
  },
  {
   "cell_type": "code",
   "execution_count": 1,
   "metadata": {},
   "outputs": [],
   "source": [
    "import pandas as pd\n",
    "import numpy as np\n",
    "import os"
   ]
  },
  {
   "cell_type": "code",
   "execution_count": 2,
   "metadata": {},
   "outputs": [],
   "source": [
    "# main path to files\n",
    "main_path = r\"/path_to_OrthNet_inputs/\""
   ]
  },
  {
   "cell_type": "code",
   "execution_count": 3,
   "metadata": {},
   "outputs": [],
   "source": [
    "# path to input files\n",
    "dip_mcl = main_path +\"230927_diploid/230927_diploid.clstrd.afterMCL.nodes.mclOutput\"\n",
    "full_mcl = main_path + \"230214_full/230214_full.2_1.5/230214_full.clstrd.afterMCL.nodes.mclOutput\""
   ]
  },
  {
   "cell_type": "markdown",
   "metadata": {},
   "source": [
    "# for diploid set"
   ]
  },
  {
   "cell_type": "code",
   "execution_count": null,
   "metadata": {},
   "outputs": [],
   "source": [
    "#block of code to made a list of lists\n",
    "dipList = []\n",
    "mclFile = open(dip_mcl, \"r\")\n",
    "for line in mclFile:\n",
    "    AthList = []\n",
    "    ChiList = []\n",
    "    CruList = []\n",
    "    TarList = []\n",
    "    AarList = []\n",
    "    \n",
    "    lineSplit = line.strip().split(\": \")\n",
    "    groupNum = lineSplit[0]\n",
    "    geneList = lineSplit[1].split(\" \")\n",
    "    \n",
    "    for gene in geneList:\n",
    "        print(gene)\n",
    "        splitGene = gene.split(\"|\")\n",
    "        speciesName = splitGene[0]\n",
    "        geneID = splitGene[1]\n",
    "        if speciesName == \"Ath\":\n",
    "            AthList.append(geneID)\n",
    "        elif speciesName == \"Chi\":\n",
    "            ChiList.append(geneID)\n",
    "        elif speciesName == \"Cru\":\n",
    "            CruList.append(geneID)\n",
    "        elif speciesName == \"Tar\":\n",
    "            TarList.append(geneID)\n",
    "        elif speciesName == \"Aar\":\n",
    "            AarList.append(geneID)\n",
    "    \n",
    "    dipList.append([groupNum, AthList, ChiList, CruList, TarList, AarList])"
   ]
  },
  {
   "cell_type": "code",
   "execution_count": null,
   "metadata": {},
   "outputs": [],
   "source": [
    "dipList"
   ]
  },
  {
   "cell_type": "code",
   "execution_count": 6,
   "metadata": {},
   "outputs": [],
   "source": [
    "dipDF = pd.DataFrame(dipList, columns = [\"groupNumber\", \"Ath\", \"Chi\", \"Cru\", \"Tar\", \"Aar\"])"
   ]
  },
  {
   "cell_type": "code",
   "execution_count": null,
   "metadata": {},
   "outputs": [],
   "source": [
    "dipDF"
   ]
  },
  {
   "cell_type": "code",
   "execution_count": 8,
   "metadata": {},
   "outputs": [],
   "source": [
    "# to get rid of the lists and join them as strings\n",
    "# code taken from: https://stackoverflow.com/questions/45306988/column-of-lists-convert-list-to-string-as-a-new-column\n",
    "dipDF['Ath'] = [', '.join(map(str, l)) for l in dipDF['Ath']]\n",
    "dipDF['Chi'] = [', '.join(map(str, l)) for l in dipDF['Chi']]\n",
    "dipDF['Cru'] = [', '.join(map(str, l)) for l in dipDF['Cru']]\n",
    "dipDF['Tar'] = [', '.join(map(str, l)) for l in dipDF['Tar']]\n",
    "dipDF['Aar'] = [', '.join(map(str, l)) for l in dipDF['Aar']]"
   ]
  },
  {
   "cell_type": "code",
   "execution_count": null,
   "metadata": {},
   "outputs": [],
   "source": [
    "dipDF"
   ]
  },
  {
   "cell_type": "code",
   "execution_count": 10,
   "metadata": {},
   "outputs": [],
   "source": [
    "dipDF.to_csv(main_path+\"/230927_diploid/OrthNet_groups_diploid_230927.txt\", sep = \"\\t\", index=False)"
   ]
  },
  {
   "cell_type": "code",
   "execution_count": null,
   "metadata": {},
   "outputs": [],
   "source": []
  },
  {
   "cell_type": "markdown",
   "metadata": {},
   "source": [
    "# for higher ploidy \"full\" Brassicaceae set"
   ]
  },
  {
   "cell_type": "code",
   "execution_count": null,
   "metadata": {},
   "outputs": [],
   "source": [
    "#block of code to made a list of lists\n",
    "fullList = []\n",
    "mclFile = open(full_mcl, \"r\")\n",
    "for line in mclFile:\n",
    "    AarList = []\n",
    "    AthList = []\n",
    "    BraList = []\n",
    "    ChiList = []\n",
    "    CruList = []\n",
    "    CsaList = []\n",
    "    SalList = []\n",
    "    TarList = []\n",
    "    lineSplit = line.strip().split(\": \")\n",
    "    groupNum = lineSplit[0]\n",
    "    geneList = lineSplit[1].split(\" \")\n",
    "    \n",
    "    for gene in geneList:\n",
    "        print(gene)\n",
    "        splitGene = gene.split(\"|\")\n",
    "        speciesName = splitGene[0]\n",
    "        geneID = splitGene[1]\n",
    "        if speciesName == \"Aar\":\n",
    "            AarList.append(geneID)\n",
    "        elif speciesName == \"Ath\":\n",
    "            AthList.append(geneID)\n",
    "        elif speciesName == \"Bra\":\n",
    "            BraList.append(geneID)\n",
    "        elif speciesName == \"Chi\":\n",
    "            ChiList.append(geneID)\n",
    "        elif speciesName == \"Cru\":\n",
    "            CruList.append(geneID)\n",
    "        elif speciesName == \"Csa\":\n",
    "            CsaList.append(geneID)\n",
    "        elif speciesName == \"Sal\":\n",
    "            SalList.append(geneID)\n",
    "        elif speciesName == \"Tar\":\n",
    "            TarList.append(geneID) \n",
    "    \n",
    "    fullList.append([groupNum, AarList, AthList, BraList, ChiList, CruList, CsaList, SalList, TarList])"
   ]
  },
  {
   "cell_type": "code",
   "execution_count": null,
   "metadata": {},
   "outputs": [],
   "source": [
    "fullList"
   ]
  },
  {
   "cell_type": "code",
   "execution_count": 14,
   "metadata": {},
   "outputs": [],
   "source": [
    "fullDF = pd.DataFrame(fullList, columns = [\"groupNumber\", \"Aar\", \"Ath\", \"Bra\", \"Chi\", \"Cru\", \"Csa\", \"Sal\", \"Tar\"])"
   ]
  },
  {
   "cell_type": "code",
   "execution_count": null,
   "metadata": {},
   "outputs": [],
   "source": [
    "fullDF"
   ]
  },
  {
   "cell_type": "code",
   "execution_count": 16,
   "metadata": {},
   "outputs": [],
   "source": [
    "# to get rid of the lists and join them as strings\n",
    "# code taken from: https://stackoverflow.com/questions/45306988/column-of-lists-convert-list-to-string-as-a-new-column\n",
    "fullDF['Aar'] = [', '.join(map(str, l)) for l in fullDF['Aar']]\n",
    "fullDF['Ath'] = [', '.join(map(str, l)) for l in fullDF['Ath']]\n",
    "fullDF['Bra'] = [', '.join(map(str, l)) for l in fullDF['Bra']]\n",
    "fullDF['Chi'] = [', '.join(map(str, l)) for l in fullDF['Chi']]\n",
    "fullDF['Cru'] = [', '.join(map(str, l)) for l in fullDF['Cru']]\n",
    "fullDF['Csa'] = [', '.join(map(str, l)) for l in fullDF['Csa']]\n",
    "fullDF['Sal'] = [', '.join(map(str, l)) for l in fullDF['Sal']]\n",
    "fullDF['Tar'] = [', '.join(map(str, l)) for l in fullDF['Tar']]"
   ]
  },
  {
   "cell_type": "code",
   "execution_count": null,
   "metadata": {},
   "outputs": [],
   "source": [
    "fullDF"
   ]
  },
  {
   "cell_type": "code",
   "execution_count": 18,
   "metadata": {},
   "outputs": [],
   "source": [
    "fullDF.to_csv(main_path+\"/230214_full/OrthNet_groups_full_230915.txt\", sep = \"\\t\", index=False)"
   ]
  }
 ],
 "metadata": {
  "kernelspec": {
   "display_name": "Python 3 (ipykernel)",
   "language": "python",
   "name": "python3"
  },
  "language_info": {
   "codemirror_mode": {
    "name": "ipython",
    "version": 3
   },
   "file_extension": ".py",
   "mimetype": "text/x-python",
   "name": "python",
   "nbconvert_exporter": "python",
   "pygments_lexer": "ipython3",
   "version": "3.10.9"
  }
 },
 "nbformat": 4,
 "nbformat_minor": 4
}
